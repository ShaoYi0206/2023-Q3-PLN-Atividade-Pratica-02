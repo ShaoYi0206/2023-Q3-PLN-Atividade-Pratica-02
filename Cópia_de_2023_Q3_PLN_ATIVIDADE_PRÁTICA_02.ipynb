{
  "nbformat": 4,
  "nbformat_minor": 0,
  "metadata": {
    "colab": {
      "provenance": [],
      "include_colab_link": true
    },
    "kernelspec": {
      "name": "python3",
      "display_name": "Python 3"
    }
  },
  "cells": [
    {
      "cell_type": "markdown",
      "metadata": {
        "id": "view-in-github",
        "colab_type": "text"
      },
      "source": [
        "<a href=\"https://colab.research.google.com/github/ShaoYi0206/2023-Q3-PLN-Atividade-Pratica-02/blob/main/C%C3%B3pia_de_2023_Q3_PLN_ATIVIDADE_PR%C3%81TICA_02.ipynb\" target=\"_parent\"><img src=\"https://colab.research.google.com/assets/colab-badge.svg\" alt=\"Open In Colab\"/></a>"
      ]
    },
    {
      "cell_type": "markdown",
      "metadata": {
        "id": "Y6QILOdpOjwv"
      },
      "source": [
        "# **Processamento de Linguagem Natural [2023.Q3]**\n",
        "Prof. Alexandre Donizeti Alves"
      ]
    },
    {
      "cell_type": "markdown",
      "metadata": {
        "id": "8m67OOx9MX_3"
      },
      "source": [
        "### **ATIVIDADE PRÁTICA 02 [Extração e Pré-processamento de Dados + Expressões Regulares]**\n"
      ]
    },
    {
      "cell_type": "markdown",
      "metadata": {
        "id": "5Gk0nHKabBT-"
      },
      "source": [
        "A **ATIVIDADE PRÁTICA 02** deve ser feita utilizando o **Google Colab** com uma conta\n",
        "sua vinculada ao Gmail. O link do seu notebook, armazenado no Google Drive, além do link de um repositório no GitHub e os principais resultados da atividade, devem ser enviados usando o seguinte formulário:\n",
        "\n",
        "> https://forms.gle/83JggUJ1mhgWviEaA\n",
        "\n",
        "\n",
        "**IMPORTANTE**: A submissão deve ser feita até o dia 20/10 (sexta-feira) APENAS POR UM INTEGRANTE DA EQUIPE, até às 23h59. Por favor, lembre-se de dar permissão de ACESSO IRRESTRITO para o professor da disciplina de PLN."
      ]
    },
    {
      "cell_type": "markdown",
      "metadata": {
        "id": "D7hJlilKM485"
      },
      "source": [
        "### **EQUIPE**\n",
        "\n",
        "---"
      ]
    },
    {
      "cell_type": "markdown",
      "source": [
        "**POR FAVOR, PREENCHER OS INTEGRANDES DA SUA EQUIPE:**\n",
        "\n",
        "\n",
        "**Integrante 01:**\n",
        "\n",
        "`Por favor, informe o seu nome completo e RA:` Antonio Kung"
      ],
      "metadata": {
        "id": "tnIArN0QY-Ek"
      }
    },
    {
      "cell_type": "markdown",
      "source": [
        "### **LIVRO**\n",
        "---"
      ],
      "metadata": {
        "id": "6yExhaebs-nD"
      }
    },
    {
      "cell_type": "markdown",
      "source": [
        "`Processamento de Linguagem Natural - Conceitos, Técnicas e Aplicações em Português.`\n",
        "\n",
        ">\n",
        "\n",
        "Disponível gratuitamente em:\n",
        "  \n",
        "  > https://brasileiraspln.com/livro-pln/1a-edicao/.\n",
        "\n",
        "\n",
        "**POR FAVOR, PREENCHER OS CAPITULOS SELECIONADOS PARA A SUA EQUIPE:**\n",
        "\n",
        "`Primeiro capítulo: ` 3\n",
        "\n",
        "`Segundo capítulo:` 22\n",
        "\n"
      ],
      "metadata": {
        "id": "DjJM_qhEZRy6"
      }
    },
    {
      "cell_type": "markdown",
      "metadata": {
        "id": "EtjgWQRzNphL"
      },
      "source": [
        "### **DESCRIÇÃO**\n",
        "---"
      ]
    },
    {
      "cell_type": "markdown",
      "source": [
        "Implementar um `notebook` no `Google Colab` para identificar ERROS em 2 (DOIS) capítulos do livro **Processamento de Linguagem Natural - Conceitos, Técnicas e Aplicações em Português**.\n",
        "\n",
        "Os capítulos devem ser selecionados na seguinte planilha:\n",
        "\n",
        "https://docs.google.com/spreadsheets/d/1ZutzQ3v1OJgsgzCvCwxXlRIQ3ChXNlHNvB63JQvYsbo/edit?usp=sharing\n",
        "\n",
        ">\n",
        "\n",
        "**IMPORTANTE:** É obrigatório usar o e-mail da UFABC.\n",
        "\n",
        ">\n",
        "\n",
        "\n",
        "**DICA:** Por favor, insira o seu nome ou da sua equipe na ordem definida na planilha. Por exemplo, se a linha correspondente ao o GRUPO 5 já foi preenchida, a próxima equipe (GRUPO 6) deverá ser informada na próxima linha da planilha.\n",
        "\n"
      ],
      "metadata": {
        "id": "fXTwkiiGs2BV"
      }
    },
    {
      "cell_type": "markdown",
      "source": [
        "### **TIPOS DE ERROS**\n",
        "---\n"
      ],
      "metadata": {
        "id": "eD_AJQhrwJQ6"
      }
    },
    {
      "cell_type": "markdown",
      "source": [
        "**IMPORTANTE**: consulta feita no ChatGPT\n",
        ">\n",
        "\n",
        "Um `programa Python` que utilize `expressões regulares` pode ajudar a identificar vários **tipos de erros** comuns em **livros**, especialmente erros de formatação e problemas relacionados à consistência do texto. Aqui estão alguns exemplos de erros comuns que podem ser identificados usando expressões regulares:\n",
        "\n",
        "* Erros de gramática e ortografia: erros de digitação, concordância verbal e nominal, uso incorreto de pontuação e outros erros gramaticais.\n",
        "\n",
        "* Problemas de formatação: você pode usar expressões regulares para encontrar erros de formatação, como espaços em excesso, tabulações inadequadas ou alinhamentos inconsistentes.\n",
        "\n",
        "* Abreviações e acrônimos: você pode usar expressões regulares para encontrar abreviações ou acrônimos que não foram definidos ou explicados anteriormente no texto.\n",
        "\n",
        "* Citações e referências: expressões regulares podem ser úteis para localizar citações ou referências que precisam de formatação especial.\n",
        "\n",
        "* OUTROS TIPOS DE ERROS: não considerem apenas os tipos de erros citados acima.\n",
        "\n",
        "\n",
        "**IMPORTANTE:** Lembre-se de que expressões regulares podem ser poderosas, mas também complexas. Dependendo da complexidade dos erros que você deseja identificar, pode ser necessário ajustar as expressões regulares de acordo com as características específicas do seu texto. Além disso, é importante ter em mente que as expressões regulares podem não ser a melhor ferramenta para todos os tipos de erros em livros, especialmente problemas mais contextuais ou semânticos, que podem exigir abordagens de PLN mais avançadas.\n",
        "\n",
        "\n",
        "\n"
      ],
      "metadata": {
        "id": "gz0DTI0KYmn6"
      }
    },
    {
      "cell_type": "markdown",
      "source": [
        "### **CRITÉRIOS DE AVALIAÇÃO**\n",
        "---\n"
      ],
      "metadata": {
        "id": "gWsBYQNtxmum"
      }
    },
    {
      "cell_type": "markdown",
      "source": [
        "A equipe que **realizar mais testes** e/ou **identificar mais erros** terá o peso diminuido na AVALIAÇÃO (Prova Escrita) em **25%** (caindo de 40 para 30). Os testes e possíveis erros devem ser contabizados de maneira separada.\n",
        "\n",
        ">\n",
        "\n",
        "Além disso, **por se tratar de um livro**, há um teste importante que deve ser feito. Lembre-se que o teste deve ser feito utilizando expressões regulares. A equipe que realizar esse teste, mesmo que o erro não ocorra nos capítulos selecionados, terá o peso diminuido na AVALIAÇÃO (Prova Escrita) em **25%** (caindo de 40 para 30).\n",
        "\n",
        "> A equipe pode considerar outros capítulos do livro para tentar identificar esse tipo de erro.\n",
        "\n",
        "**Se for a mesma equipe, o peso da avaliação será reduzido em 50% (caindo de 40 para 20)**.\n",
        "\n",
        ">\n",
        "\n",
        "**IMPORTANTE**: a diminuição no peso da AVALIAÇÃO será aplicado para todos os membros da equipe. Esse critério será aplicado apenas para uma equipe, considerando como critério de desempate a equipe que entregar primeiro a atividade no formulário.\n",
        "\n",
        "\n",
        "\n"
      ],
      "metadata": {
        "id": "5iHdx4BXYruQ"
      }
    },
    {
      "cell_type": "markdown",
      "source": [
        "### **IMPLEMENTAÇÃO**\n",
        "---"
      ],
      "metadata": {
        "id": "nw09lujGvfjc"
      }
    },
    {
      "cell_type": "code",
      "source": [
        "import requests\n",
        "import random\n",
        "import re\n",
        "import nltk\n",
        "from nltk.tokenize import word_tokenize\n",
        "from nltk.corpus import stopwords\n",
        "from bs4 import BeautifulSoup\n",
        "\n",
        "nltk.download('punkt')\n",
        "nltk.download('stopwords')\n",
        "\n",
        "user_agents_list = [\n",
        "    'Mozilla/5.0 (Linux; Android 13; SM-S901B) AppleWebKit/537.36 (KHTML, like Gecko) Chrome/112.0.0.0 Mobile Safari/537.36',\n",
        "    'Mozilla/5.0 (Linux; Android 13; SM-A515F) AppleWebKit/537.36 (KHTML, like Gecko) Chrome/112.0.0.0 Mobile Safari/537.36',\n",
        "    'Mozilla/5.0 (Linux; Android 13; Pixel 6) AppleWebKit/537.36 (KHTML, like Gecko) Chrome/112.0.0.0 Mobile Safari/537.36',\n",
        "    'Mozilla/5.0 (iPad; CPU OS 12_2 like Mac OS X) AppleWebKit/605.1.15 (KHTML, like Gecko) Mobile/15E148'\n",
        "]\n",
        "\n",
        "url_cap3 = 'https://brasileiraspln.com/livro-pln/1a-edicao/parte2/cap3/cap3.html'\n",
        "url_cap22 = 'https://brasileiraspln.com/livro-pln/1a-edicao/parte9/cap22/cap22.html'\n",
        "\n",
        "response3 = requests.get(url_cap3, headers={'User-Agent': random.choice(user_agents_list)})\n",
        "\n",
        "response22 = requests.get(url_cap22, headers={'User-Agent': random.choice(user_agents_list)})\n",
        "\n",
        "if response3.status_code == 200 and response22.status_code:\n",
        "  print('Conexao bem-sucedida')\n"
      ],
      "metadata": {
        "id": "RyUailD5vi9E",
        "colab": {
          "base_uri": "https://localhost:8080/"
        },
        "outputId": "fef212d5-19d7-43e4-a45d-17a04e130886"
      },
      "execution_count": 1,
      "outputs": [
        {
          "output_type": "stream",
          "name": "stderr",
          "text": [
            "[nltk_data] Downloading package punkt to /root/nltk_data...\n",
            "[nltk_data]   Unzipping tokenizers/punkt.zip.\n",
            "[nltk_data] Downloading package stopwords to /root/nltk_data...\n",
            "[nltk_data]   Unzipping corpora/stopwords.zip.\n"
          ]
        },
        {
          "output_type": "stream",
          "name": "stdout",
          "text": [
            "Conexao bem-sucedida\n"
          ]
        }
      ]
    },
    {
      "cell_type": "code",
      "source": [
        "!pip install pyspellchecker"
      ],
      "metadata": {
        "id": "lrhNVQqAy3_l"
      },
      "execution_count": null,
      "outputs": []
    },
    {
      "cell_type": "code",
      "source": [
        "# Capitulo 3\n",
        "content3 = response3.text\n",
        "soup3 = BeautifulSoup(content3, 'html.parser')\n",
        "text3 = soup3.get_text()\n",
        "\n",
        "# Capitulo 22\n",
        "content22 = response22.text\n",
        "soup22 = BeautifulSoup(content22, 'html.parser')\n",
        "text22 = soup22.get_text()"
      ],
      "metadata": {
        "id": "ww7H8z158eh3"
      },
      "execution_count": 3,
      "outputs": []
    },
    {
      "cell_type": "code",
      "source": [
        "print(text3)"
      ],
      "metadata": {
        "id": "nsC1E0PkNt90"
      },
      "execution_count": null,
      "outputs": []
    },
    {
      "cell_type": "code",
      "source": [
        "print(text22)"
      ],
      "metadata": {
        "id": "TTpE1mik8s5R"
      },
      "execution_count": null,
      "outputs": []
    },
    {
      "cell_type": "code",
      "source": [
        "# Encontrar erros de formatacao\n",
        "padrao_formatacao = r'[^\\x00-\\x7F]+'\n",
        "\n",
        "# Capitulo 3\n",
        "erro_formatacao3 = re.findall(padrao_formatacao, text3)\n",
        "\n",
        "print(f'Capitulo 3: Quantidade de erros de formatacao: {len(erro_formatacao3)}')\n",
        "\n",
        "# Capitulo 22\n",
        "erro_formatacao22 = re.findall(padrao_formatacao, text22)\n",
        "\n",
        "print(f'Capitulo 22: Quantidade de erros de formatacao: {len(erro_formatacao22)}')"
      ],
      "metadata": {
        "id": "gyKrldAbnDJB",
        "colab": {
          "base_uri": "https://localhost:8080/"
        },
        "outputId": "453130ff-534b-49af-fbf4-cd37218fa2cb"
      },
      "execution_count": 4,
      "outputs": [
        {
          "output_type": "stream",
          "name": "stdout",
          "text": [
            "Capitulo 3: Quantidade de erros de formatacao: 1906\n",
            "Capitulo 22: Quantidade de erros de formatacao: 1193\n"
          ]
        }
      ]
    },
    {
      "cell_type": "code",
      "source": [
        "# Encontrar erros de espacamento\n",
        "padrao_espacamento = r'\\s{2,}'\n",
        "\n",
        "# Capitulo 3\n",
        "erro_espacamento3 = re.findall(padrao_espacamento, text3)\n",
        "\n",
        "print(f'Capitulo 3: Quantidade de erros de espacamento: {len(erro_espacamento3)}')\n",
        "\n",
        "# Capitulo 3\n",
        "erro_espacamento22 = re.findall(padrao_espacamento, text22)\n",
        "\n",
        "print(f'Capitulo 22: Quantidade de erros de espacamento: {len(erro_espacamento22)}')"
      ],
      "metadata": {
        "id": "xT6jljYcnqMX",
        "colab": {
          "base_uri": "https://localhost:8080/"
        },
        "outputId": "0c1e9071-0ae5-44de-dec5-719c9f556551"
      },
      "execution_count": 5,
      "outputs": [
        {
          "output_type": "stream",
          "name": "stdout",
          "text": [
            "Capitulo 3: Quantidade de erros de espacamento: 324\n",
            "Capitulo 22: Quantidade de erros de espacamento: 154\n"
          ]
        }
      ]
    },
    {
      "cell_type": "code",
      "source": [
        "# Encontrar errro de tabulacoes\n",
        "padrao_tabulacao = r'(?<!\\t)\\t+|^\\t+'\n",
        "\n",
        "# Capitulo 3\n",
        "erro_tabulacao3 = re.findall(padrao_tabulacao, text3)\n",
        "\n",
        "print(f'Capitulo 3: Quantidade de erros de tabulacao: {len(erro_tabulacao3)}')\n",
        "\n",
        "# Capitulo 22\n",
        "erro_tabulacao22 = re.findall(padrao_tabulacao, text22)\n",
        "\n",
        "print(f'Capitulo 22: Quantidade de erros de tabulacao: {len(erro_tabulacao22)}')"
      ],
      "metadata": {
        "id": "nAkbYfADa2lX",
        "colab": {
          "base_uri": "https://localhost:8080/"
        },
        "outputId": "d75a4dcc-57b8-426f-ac86-8e963902df37"
      },
      "execution_count": 6,
      "outputs": [
        {
          "output_type": "stream",
          "name": "stdout",
          "text": [
            "Capitulo 3: Quantidade de erros de tabulacao: 0\n",
            "Capitulo 22: Quantidade de erros de tabulacao: 0\n"
          ]
        }
      ]
    },
    {
      "cell_type": "code",
      "source": [
        "# Encontrar erro de alinhamento\n",
        "padrao_alinhamento = r'^(?:(?:(\\t* +)|( +\\t*))*)\\S'\n",
        "\n",
        "# Capitulo 3\n",
        "erro_alinhamento3 = re.findall(padrao_alinhamento, text3)\n",
        "\n",
        "print(f'Capitulo 3: Quantidade de erros de alinhamento: {len(erro_alinhamento3)}')\n",
        "\n",
        "# Capitulo 22\n",
        "erro_alinhamento22 = re.findall(padrao_alinhamento, text22)\n",
        "\n",
        "print(f'Capitulo 22: Quantidade de erros de alinhamento: {len(erro_alinhamento22)}')"
      ],
      "metadata": {
        "id": "TNmmiuvobPZp",
        "colab": {
          "base_uri": "https://localhost:8080/"
        },
        "outputId": "098aafb4-f0f8-45c7-cc10-365e9a98599b"
      },
      "execution_count": 7,
      "outputs": [
        {
          "output_type": "stream",
          "name": "stdout",
          "text": [
            "Capitulo 3: Quantidade de erros de alinhamento: 0\n",
            "Capitulo 22: Quantidade de erros de alinhamento: 0\n"
          ]
        }
      ]
    },
    {
      "cell_type": "code",
      "source": [
        "# Encontrar palavras duplicadas\n",
        "padrao_duplicadas = r'\\b(\\w+)\\s+\\1\\b'\n",
        "\n",
        "# Capitulo 3\n",
        "erro_duplicadas3 = re.findall(padrao_duplicadas, text3)\n",
        "\n",
        "#print(erro_duplicadas3)\n",
        "\n",
        "print(f'Capitulo 3: Quantidade de erros de duplicadas: {len(erro_duplicadas3)}')\n",
        "\n",
        "# Capitulo 22\n",
        "erro_duplicadas22 = re.findall(padrao_duplicadas, text22)\n",
        "\n",
        "#print(erro_duplicadas22)\n",
        "\n",
        "print(f'Capitulo 22: Quantidade de erros de duplicadas: {len(erro_duplicadas22)}')"
      ],
      "metadata": {
        "id": "PUP7PssSF2Dy",
        "colab": {
          "base_uri": "https://localhost:8080/"
        },
        "outputId": "59aae93d-f5a1-44e1-9b80-6b9057c5fbb5"
      },
      "execution_count": 9,
      "outputs": [
        {
          "output_type": "stream",
          "name": "stdout",
          "text": [
            "Capitulo 3: Quantidade de erros de duplicadas: 8\n",
            "Capitulo 22: Quantidade de erros de duplicadas: 2\n"
          ]
        }
      ]
    },
    {
      "cell_type": "code",
      "source": [
        "# Uso incorreto de hifens em palavras compostas\n",
        "padrao_hifens = r'\\b\\w+-{2,}\\w+\\b'\n",
        "\n",
        "# Capitulo 3\n",
        "erro_hifens3 = re.findall(padrao_hifens, text3)\n",
        "\n",
        "#print(erro_hifens3)\n",
        "\n",
        "print(f'Capitulo 3: Quantidade de erros de hifens: {len(erro_hifens3)}')\n",
        "\n",
        "# Capitulo 22\n",
        "erro_hifens22 = re.findall(padrao_hifens, text22)\n",
        "\n",
        "#print(erro_hifens22)\n",
        "\n",
        "print(f'Capitulo 22: Quantidade de erros de hifens: {len(erro_hifens22)}')"
      ],
      "metadata": {
        "id": "re3-3ykOkczq",
        "colab": {
          "base_uri": "https://localhost:8080/"
        },
        "outputId": "6d745a85-e85b-4089-8d3c-ec04917ca712"
      },
      "execution_count": 10,
      "outputs": [
        {
          "output_type": "stream",
          "name": "stdout",
          "text": [
            "Capitulo 3: Quantidade de erros de hifens: 3\n",
            "Capitulo 22: Quantidade de erros de hifens: 0\n"
          ]
        }
      ]
    },
    {
      "cell_type": "code",
      "source": [
        "# Identificar acentos incorretos ou caracteres especiais\n",
        "padrao_acentos = r'[^\\w\\s,.!?():;\\\"\\'’-]'\n",
        "\n",
        "# Capitulo 3\n",
        "erro_acentos3 = re.findall(padrao_acentos, text3)\n",
        "\n",
        "print(f'Capitulo 3: Quantidade de erros de acentos incorretos ou caracteres especiais: {len(erro_acentos3)}')\n",
        "\n",
        "# Capitulo 22\n",
        "erro_acentos22 = re.findall(padrao_acentos, text22)\n",
        "\n",
        "print(f'Capitulo 22: Quantidade de erros de acentos incorretos ou caracteres especiais: {len(erro_acentos22)}')"
      ],
      "metadata": {
        "id": "3Ij8SXVH1ohW",
        "colab": {
          "base_uri": "https://localhost:8080/"
        },
        "outputId": "d0880cc6-376b-4c65-a50b-1a634e20400c"
      },
      "execution_count": 13,
      "outputs": [
        {
          "output_type": "stream",
          "name": "stdout",
          "text": [
            "Capitulo 3: Quantidade de erros de acentos incorretos ou caracteres especiais: 2306\n",
            "Capitulo 22: Quantidade de erros de acentos incorretos ou caracteres especiais: 1373\n"
          ]
        }
      ]
    },
    {
      "cell_type": "code",
      "source": [
        "# Identificar letras minusculas apos pontos finais\n",
        "padrao_minuscula = r'\\.[a-z]'\n",
        "\n",
        "# Capitulo 3\n",
        "erro_minuscula3 = re.findall(padrao_minuscula, text3)\n",
        "\n",
        "print(f'Capitulo 3: Quantidade de erros de letras minusculas apos pontos finais: {len(erro_minuscula3)}')\n",
        "\n",
        "# Capitulo 22\n",
        "erro_minuscula22 = re.findall(padrao_minuscula, text22)\n",
        "\n",
        "print(f'Capitulo 22: Quantidade de erros de letras minusculas apos pontos finais: {len(erro_minuscula22)}')"
      ],
      "metadata": {
        "id": "YK0PipO32z0C",
        "colab": {
          "base_uri": "https://localhost:8080/"
        },
        "outputId": "a003163a-07ca-41ea-e4cb-3e266fa9b63e"
      },
      "execution_count": 14,
      "outputs": [
        {
          "output_type": "stream",
          "name": "stdout",
          "text": [
            "Capitulo 3: Quantidade de erros de letras minusculas apos pontos finais: 77\n",
            "Capitulo 22: Quantidade de erros de letras minusculas apos pontos finais: 19\n"
          ]
        }
      ]
    }
  ]
}